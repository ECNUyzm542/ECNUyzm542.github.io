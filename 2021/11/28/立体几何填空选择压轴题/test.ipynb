{
 "cells": [
  {
   "cell_type": "markdown",
   "metadata": {},
   "source": [
    "## 立体几何填空选择题\n",
    "**ps:(1)以下题目皆为19年本人在读时学校习题,不包含竞赛题**\n",
    "\n",
    "**&nbsp;&nbsp;&nbsp;&nbsp;&nbsp;(2)本次出题使用ipynb+Markdown文件转html形式，若有打印问题及时反映**"
   ]
  },
  {
   "cell_type": "markdown",
   "metadata": {},
   "source": [
    "**1、已知正四面体ABCD的棱长为$\\sqrt{6}$,P是棱AB上任意一点(不与A,B重合)，且点P到面ACD和面BBCD的近距离分别为x,y,则$\\frac{3}{x}+\\frac{1}{y}$的最小值为____**"
   ]
  },
  {
   "cell_type": "markdown",
   "metadata": {},
   "source": [
    "**2、如图，棱长为3的正方体的顶点A在平面$\\alpha$内，三条棱AB,AC,AD斗在平面$\\alpha$的同侧，若点B,C到平面$\\alpha$的距离分别为$\\sqrt{2},\\sqrt{3}$，则平面ABC与平面$\\alpha$所成锐二面角的余弦值为_____**"
   ]
  },
  {
   "cell_type": "markdown",
   "metadata": {},
   "source": [
    "![第2题 图](./Q2.png \"第2题 图\")"
   ]
  },
  {
   "cell_type": "markdown",
   "metadata": {},
   "source": [
    "**3、如图，棱长为4的正方体$ABCD-A_1B_1C_1D_1$,点A在平面$\\alpha$内，平面ABCD在平面$\\alpha$所成的二面角为$30^。$，则平面$A_1BD$在平面$\\alpha$上的投影的最大值为____**"
   ]
  },
  {
   "cell_type": "markdown",
   "metadata": {},
   "source": [
    "![第3题 图](./Q3.png \"第3题 图\")"
   ]
  },
  {
   "cell_type": "markdown",
   "metadata": {},
   "source": [
    "**4、已知直角三角形ABC的两条直角边AC=2,BC=3,P为斜边AB上一点，沿CP将三角形ABC折成直二面角A-CP-B，此时二面角P-AC-B的正切值为$\\sqrt{2}$，则翻折后AB的长为(&nbsp;&nbsp;&nbsp;&nbsp;)**"
   ]
  },
  {
   "cell_type": "markdown",
   "metadata": {},
   "source": [
    "**A、2&nbsp;&nbsp;&nbsp;&nbsp;B、$\\sqrt{5}$&nbsp;&nbsp;&nbsp;&nbsp;C、$\\sqrt{6}$&nbsp;&nbsp;&nbsp;&nbsp;D、$\\sqrt{7}$**"
   ]
  },
  {
   "cell_type": "markdown",
   "metadata": {},
   "source": [
    "**5、在矩形ABCD中，E为AB的中点，将三角形ADE沿直线DE翻转成三角形$A_1DE$，若M为线段$A_1C$的中点，则在三角形ADE翻转过程中，正确的命题有_____**"
   ]
  },
  {
   "cell_type": "markdown",
   "metadata": {},
   "source": [
    "**(1)BM是定值&nbsp;&nbsp;&nbsp;&nbsp;(2)点M在圆上运动&nbsp;&nbsp;&nbsp;&nbsp;(3)一定存在某个位置使DE&perp;$A_1C$**\n",
    "\n",
    "**(4)一定存在某个位置使得MB//平面$A_1DE$**"
   ]
  },
  {
   "cell_type": "markdown",
   "metadata": {},
   "source": [
    "**6、正三棱锥P-ABC中，AB=1,AP=2,过AB的平面$\\alpha$将其体积平分，则棱PC与平面$\\alpha$所成角的余弦值为_____**"
   ]
  },
  {
   "cell_type": "markdown",
   "metadata": {},
   "source": [
    "**7、已知在棱长为36的正四面体A-BCD的内切球上有一动点M，则$(MB+\\frac{1}{3}MC)_{min}$=______**"
   ]
  }
 ],
 "metadata": {
  "language_info": {
   "name": "python"
  },
  "orig_nbformat": 4
 },
 "nbformat": 4,
 "nbformat_minor": 2
}
